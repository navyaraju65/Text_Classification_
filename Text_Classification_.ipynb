{
 "cells": [
  {
   "cell_type": "code",
   "execution_count": 1,
   "id": "f141719c-28c3-4a43-87c3-3db03ac8a061",
   "metadata": {},
   "outputs": [
    {
     "name": "stderr",
     "output_type": "stream",
     "text": [
      "[nltk_data] Downloading package wordnet to C:\\Users\\THIS\n",
      "[nltk_data]     PC\\AppData\\Roaming\\nltk_data...\n",
      "[nltk_data]   Package wordnet is already up-to-date!\n",
      "[nltk_data] Downloading package omw-1.4 to C:\\Users\\THIS\n",
      "[nltk_data]     PC\\AppData\\Roaming\\nltk_data...\n",
      "[nltk_data]   Package omw-1.4 is already up-to-date!\n"
     ]
    },
    {
     "name": "stdout",
     "output_type": "stream",
     "text": [
      "Accuracy: 1.0\n",
      "              precision    recall  f1-score   support\n",
      "\n",
      "    Business       1.00      1.00      1.00        21\n",
      "     Science       1.00      1.00      1.00        14\n",
      "       Sport       1.00      1.00      1.00         9\n",
      "\n",
      "    accuracy                           1.00        44\n",
      "   macro avg       1.00      1.00      1.00        44\n",
      "weighted avg       1.00      1.00      1.00        44\n",
      "\n"
     ]
    },
    {
     "name": "stdin",
     "output_type": "stream",
     "text": [
      "Enter a text (type 'exit' to quit):  market\n"
     ]
    },
    {
     "name": "stdout",
     "output_type": "stream",
     "text": [
      "Predicted Class: Business\n"
     ]
    },
    {
     "name": "stdin",
     "output_type": "stream",
     "text": [
      "Enter a text (type 'exit' to quit):  discovery\n"
     ]
    },
    {
     "name": "stdout",
     "output_type": "stream",
     "text": [
      "Predicted Class: Science\n"
     ]
    },
    {
     "name": "stdin",
     "output_type": "stream",
     "text": [
      "Enter a text (type 'exit' to quit):  astronomers\n"
     ]
    },
    {
     "name": "stdout",
     "output_type": "stream",
     "text": [
      "Predicted Class: Science\n"
     ]
    },
    {
     "name": "stdin",
     "output_type": "stream",
     "text": [
      "Enter a text (type 'exit' to quit):  basketball\n"
     ]
    },
    {
     "name": "stdout",
     "output_type": "stream",
     "text": [
      "Predicted Class: Sport\n"
     ]
    },
    {
     "name": "stdin",
     "output_type": "stream",
     "text": [
      "Enter a text (type 'exit' to quit):  football\n"
     ]
    },
    {
     "name": "stdout",
     "output_type": "stream",
     "text": [
      "Predicted Class: Sport\n"
     ]
    },
    {
     "name": "stdin",
     "output_type": "stream",
     "text": [
      "Enter a text (type 'exit' to quit):  lab\n"
     ]
    },
    {
     "name": "stdout",
     "output_type": "stream",
     "text": [
      "Predicted Class: Science\n"
     ]
    },
    {
     "name": "stdin",
     "output_type": "stream",
     "text": [
      "Enter a text (type 'exit' to quit):  revenue\n"
     ]
    },
    {
     "name": "stdout",
     "output_type": "stream",
     "text": [
      "Predicted Class: Business\n"
     ]
    },
    {
     "name": "stdin",
     "output_type": "stream",
     "text": [
      "Enter a text (type 'exit' to quit):  scientific\n"
     ]
    },
    {
     "name": "stdout",
     "output_type": "stream",
     "text": [
      "Predicted Class: Science\n"
     ]
    },
    {
     "name": "stdin",
     "output_type": "stream",
     "text": [
      "Enter a text (type 'exit' to quit):  stock\n"
     ]
    },
    {
     "name": "stdout",
     "output_type": "stream",
     "text": [
      "Predicted Class: Business\n"
     ]
    },
    {
     "name": "stdin",
     "output_type": "stream",
     "text": [
      "Enter a text (type 'exit' to quit):  article\n"
     ]
    },
    {
     "name": "stdout",
     "output_type": "stream",
     "text": [
      "Predicted Class: Sport\n"
     ]
    },
    {
     "name": "stdin",
     "output_type": "stream",
     "text": [
      "Enter a text (type 'exit' to quit):  experiment\n"
     ]
    },
    {
     "name": "stdout",
     "output_type": "stream",
     "text": [
      "Predicted Class: Science\n"
     ]
    },
    {
     "name": "stdin",
     "output_type": "stream",
     "text": [
      "Enter a text (type 'exit' to quit):  cdbhsjhmafukjnawmkdsileji\n"
     ]
    },
    {
     "name": "stdout",
     "output_type": "stream",
     "text": [
      "Word not found : cdbhsjhmafukjnawmkdsileji\n"
     ]
    },
    {
     "name": "stdin",
     "output_type": "stream",
     "text": [
      "Enter a text (type 'exit' to quit):  navyasree\n"
     ]
    },
    {
     "name": "stdout",
     "output_type": "stream",
     "text": [
      "Word not found : navyasree\n"
     ]
    },
    {
     "name": "stdin",
     "output_type": "stream",
     "text": [
      "Enter a text (type 'exit' to quit):  mobile\n"
     ]
    },
    {
     "name": "stdout",
     "output_type": "stream",
     "text": [
      "Predicted Class: Science\n"
     ]
    },
    {
     "name": "stdin",
     "output_type": "stream",
     "text": [
      "Enter a text (type 'exit' to quit):  exit\n"
     ]
    }
   ],
   "source": [
    "import pandas as pd\n",
    "from sklearn.model_selection import train_test_split\n",
    "from sklearn.feature_extraction.text import TfidfVectorizer\n",
    "from sklearn.naive_bayes import MultinomialNB\n",
    "from sklearn.metrics import classification_report, accuracy_score\n",
    "from nltk.corpus import wordnet\n",
    "import random\n",
    "import nltk\n",
    "\n",
    "# Download the WordNet resource\n",
    "nltk.download('wordnet')\n",
    "nltk.download('omw-1.4')\n",
    "\n",
    "# Load data\n",
    "data = {\n",
    "    'text': [\n",
    "        \"This is a sports article about football.\",\n",
    "        \"The new scientific discovery is groundbreaking.\",\n",
    "        \"The stock market is showing positive growth.\",\n",
    "        \"Astronomers observe a rare cosmic event.\",\n",
    "        \"The basketball team won the championship.\",\n",
    "        \"Scientists conduct an experiment in the lab.\",\n",
    "        \"The company's revenue increased this quarter.\",\n",
    "    ],\n",
    "    'label': ['Sport', 'Science', 'Business', 'Science', 'Sport', 'Science', 'Business']\n",
    "}\n",
    "\n",
    "# Define a function for data augmentation with synonyms\n",
    "def augment_with_synonyms(text):\n",
    "    words = text.split()\n",
    "    augmented_texts = []\n",
    "    for idx, word in enumerate(words):\n",
    "        synsets = wordnet.synsets(word)\n",
    "        if synsets:\n",
    "            synonyms = [synset.lemmas()[0].name() for synset in synsets]\n",
    "            for synonym in synonyms:\n",
    "                words_copy = words.copy()\n",
    "                words_copy[idx] = synonym\n",
    "                augmented_texts.append(\" \".join(words_copy))\n",
    "    return augmented_texts\n",
    "\n",
    "# Augment the data using synonyms\n",
    "data_augmented = {'text': [], 'label': []}\n",
    "for idx, row in enumerate(data['text']):\n",
    "    augmented_texts = augment_with_synonyms(row)\n",
    "    data_augmented['text'].extend(augmented_texts)\n",
    "    data_augmented['label'].extend([data['label'][idx]] * len(augmented_texts))\n",
    "\n",
    "# Combine original data and augmented data\n",
    "data_combined = {\n",
    "    'text': data['text'] + data_augmented['text'],\n",
    "    'label': data['label'] + data_augmented['label']\n",
    "}\n",
    "\n",
    "# Convert the data into a DataFrame\n",
    "df = pd.DataFrame(data_combined)\n",
    "\n",
    "# Split data into training and testing sets\n",
    "X_train, X_test, y_train, y_test = train_test_split(df['text'], df['label'], test_size=0.2, random_state=42)\n",
    "\n",
    "# Create a TF-IDF vectorizer\n",
    "vectorizer = TfidfVectorizer(stop_words='english')\n",
    "\n",
    "# Transform the text data into TF-IDF features\n",
    "X_train_tfidf = vectorizer.fit_transform(X_train)\n",
    "X_test_tfidf = vectorizer.transform(X_test)\n",
    "\n",
    "# Train the Naive Bayes classifier\n",
    "classifier = MultinomialNB()\n",
    "classifier.fit(X_train_tfidf, y_train)\n",
    "\n",
    "# Make predictions on the test set\n",
    "y_pred = classifier.predict(X_test_tfidf)\n",
    "\n",
    "# Evaluate the model\n",
    "print(\"Accuracy:\", accuracy_score(y_test, y_pred))\n",
    "print(classification_report(y_test, y_pred))\n",
    "\n",
    "# User Interface for predicting new text class\n",
    "while True:\n",
    "    new_text = input(\"Enter a text (type 'exit' to quit): \")\n",
    "    if new_text.lower() == 'exit':\n",
    "        break\n",
    "\n",
    "    # Check if the word is available in WordNet\n",
    "    words = new_text.split()\n",
    "    all_words_found = True\n",
    "    for word in words:\n",
    "        synsets = wordnet.synsets(word)\n",
    "        if not synsets:\n",
    "            print(f\"Word not found : {word}\")\n",
    "            all_words_found = False\n",
    "            break\n",
    "    \n",
    "    if not all_words_found:\n",
    "        continue\n",
    "\n",
    "    text_tfidf = vectorizer.transform([new_text])\n",
    "    predicted_class = classifier.predict(text_tfidf)[0]\n",
    "    print(\"Predicted Class:\", predicted_class)"
   ]
  }
 ],
 "metadata": {
  "kernelspec": {
   "display_name": "Python 3 (ipykernel)",
   "language": "python",
   "name": "python3"
  },
  "language_info": {
   "codemirror_mode": {
    "name": "ipython",
    "version": 3
   },
   "file_extension": ".py",
   "mimetype": "text/x-python",
   "name": "python",
   "nbconvert_exporter": "python",
   "pygments_lexer": "ipython3",
   "version": "3.11.4"
  }
 },
 "nbformat": 4,
 "nbformat_minor": 5
}
